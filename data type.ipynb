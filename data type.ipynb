{
 "cells": [
  {
   "cell_type": "code",
   "execution_count": 45,
   "metadata": {},
   "outputs": [
    {
     "name": "stdout",
     "output_type": "stream",
     "text": [
      "[1, 23, 3, 45, 6, 7, 8, 9, 10]\n"
     ]
    }
   ],
   "source": [
    "x=[1,23,3,45,6,7,8,9,10]\n",
    "print(x)\n"
   ]
  },
  {
   "cell_type": "code",
   "execution_count": 46,
   "metadata": {},
   "outputs": [],
   "source": [
    "#AMIT"
   ]
  },
  {
   "cell_type": "markdown",
   "metadata": {},
   "source": []
  },
  {
   "cell_type": "markdown",
   "metadata": {},
   "source": [
    "list_one=[1,2,3,4,\"amit\",\"Learning\",True,[1,2,3,\"True\",[\"m1\",\"d1\",\"ds\"]]]\n",
    "print(type(list_one))"
   ]
  },
  {
   "cell_type": "code",
   "execution_count": 47,
   "metadata": {},
   "outputs": [
    {
     "name": "stdout",
     "output_type": "stream",
     "text": [
      "[1, 2, 3, 4, 'amit', 'Learning', True, [1, 2, 3, 'True', ['m1', 'd1', 'ds']]]\n"
     ]
    }
   ],
   "source": [
    "list_one=[1,2,3,4,\"amit\",\"Learning\",True,[1,2,3,\"True\",[\"m1\",\"d1\",\"ds\"]]]\n",
    "print(list_one)"
   ]
  },
  {
   "cell_type": "code",
   "execution_count": 48,
   "metadata": {},
   "outputs": [
    {
     "name": "stdout",
     "output_type": "stream",
     "text": [
      "[1, 2, 3, 'True', ['m1', 'd1', 'ds']]\n"
     ]
    }
   ],
   "source": [
    "list_one=[1,2,3,4,\"amit\",\"Learning\",True,[1,2,3,\"True\",[\"m1\",\"d1\",\"ds\"]]]\n",
    "print(list_one[7])"
   ]
  },
  {
   "cell_type": "code",
   "execution_count": 49,
   "metadata": {},
   "outputs": [
    {
     "name": "stdout",
     "output_type": "stream",
     "text": [
      "[1, 2, 3, 4, 0, 'Learning', True, [1, 2, 3, 'True', ['m1', 'd1', 'ds']]]\n"
     ]
    }
   ],
   "source": [
    "list_one=[1,2,3,4,\"amit\",\"Learning\",True,[1,2,3,\"True\",[\"m1\",\"d1\",\"ds\"]]]\n",
    "list_one[4]=0\n",
    "print(list_one)\n"
   ]
  },
  {
   "cell_type": "code",
   "execution_count": 50,
   "metadata": {},
   "outputs": [
    {
     "name": "stdout",
     "output_type": "stream",
     "text": [
      "ds\n"
     ]
    }
   ],
   "source": [
    "list_one=[1,2,3,4,\"amit\",\"Learning\",True,[1,2,3,\"True\",[\"m1\",\"d1\",\"ds\"]]]\n",
    "print(list_one[7][4][2])"
   ]
  },
  {
   "cell_type": "code",
   "execution_count": 51,
   "metadata": {},
   "outputs": [
    {
     "data": {
      "text/plain": [
       "['Y', 'A', 'S', 'S', 'I', 'N']"
      ]
     },
     "execution_count": 51,
     "metadata": {},
     "output_type": "execute_result"
    }
   ],
   "source": [
    "Y=\"YASSIN\"\n",
    "list(Y)\n"
   ]
  },
  {
   "cell_type": "code",
   "execution_count": 10,
   "metadata": {},
   "outputs": [
    {
     "name": "stdout",
     "output_type": "stream",
     "text": [
      "[1, 2, 3, 4, 5, 6, 7, 8, 9, 10, 11, 12, 13, 14, 15, 16, 17, 18, 19, 20]\n"
     ]
    }
   ],
   "source": [
    "\n",
    "list1=[1,2,3,4,5,6,7,8,9,10]\n",
    "list2=[11,12,13,14,15,16,17,18,19,20]\n",
    "list3=list1+list2\n",
    "print(list3)"
   ]
  },
  {
   "cell_type": "code",
   "execution_count": 11,
   "metadata": {},
   "outputs": [
    {
     "name": "stdout",
     "output_type": "stream",
     "text": [
      "[1, 2, 3, 4, 5, 6, 7, 8, 9, 10, 11, 12, 13, 14, 15, 16, 17, 18, 19, 20]\n"
     ]
    }
   ],
   "source": [
    "list1.extend(list2)\n",
    "print(list1)"
   ]
  },
  {
   "cell_type": "code",
   "execution_count": 20,
   "metadata": {},
   "outputs": [
    {
     "name": "stdout",
     "output_type": "stream",
     "text": [
      "['amit', 'yassin', 'mohamed', 'ahmed', 'mohamed']\n"
     ]
    }
   ],
   "source": [
    "list_two=[\"amit\",\"yassin\",\"mohamed\",\"ahmed\",\"ali\",\"mohamed\"]\n",
    "list_two.remove(\"ali\")\n",
    "print(list_two)"
   ]
  },
  {
   "cell_type": "code",
   "execution_count": 21,
   "metadata": {},
   "outputs": [
    {
     "name": "stdout",
     "output_type": "stream",
     "text": [
      "['amit', 'yassin', 'mohamed', 'ahmed']\n"
     ]
    }
   ],
   "source": [
    "list_two.pop()\n",
    "print(list_two)"
   ]
  },
  {
   "cell_type": "code",
   "execution_count": 22,
   "metadata": {},
   "outputs": [
    {
     "name": "stdout",
     "output_type": "stream",
     "text": [
      "['yassin', 'mohamed', 'ahmed']\n"
     ]
    }
   ],
   "source": [
    "list_two.pop(0)\n",
    "print(list_two)"
   ]
  },
  {
   "cell_type": "code",
   "execution_count": 23,
   "metadata": {},
   "outputs": [
    {
     "name": "stdout",
     "output_type": "stream",
     "text": [
      "['mohamed', 'yassin', 'mohamed', 'ahmed']\n"
     ]
    }
   ],
   "source": [
    "list_two.insert(0,\"mohamed\")\n",
    "print(list_two)"
   ]
  },
  {
   "cell_type": "code",
   "execution_count": 16,
   "metadata": {},
   "outputs": [
    {
     "name": "stdout",
     "output_type": "stream",
     "text": [
      "[]\n"
     ]
    }
   ],
   "source": [
    "del list_two[:]\n",
    "print(list_two)"
   ]
  },
  {
   "cell_type": "code",
   "execution_count": 60,
   "metadata": {},
   "outputs": [
    {
     "name": "stdout",
     "output_type": "stream",
     "text": [
      "Your name is:  ihhvhiv\n",
      "Your ID is:  66266\n"
     ]
    }
   ],
   "source": [
    "Name=input(\"Enter your name: \")\n",
    "ID=input(\"Enter your ID: \")\n",
    "print(\"Your name is: \",Name)\n",
    "print(\"Your ID is: \",ID)"
   ]
  },
  {
   "cell_type": "code",
   "execution_count": 59,
   "metadata": {},
   "outputs": [
    {
     "name": "stdout",
     "output_type": "stream",
     "text": [
      "21\n"
     ]
    }
   ],
   "source": [
    "x=20\n",
    "y=5\n",
    "result=(x+True)\n",
    "print(result)"
   ]
  },
  {
   "cell_type": "code",
   "execution_count": 61,
   "metadata": {},
   "outputs": [
    {
     "name": "stdout",
     "output_type": "stream",
     "text": [
      "(25, 15, 100, 4.0, 0, 4, 3200000)\n"
     ]
    }
   ],
   "source": [
    "answer=(x+y),(x-y),(x*y),(x/y),(x%y),(x//y),(x**y)\n",
    "print(answer)"
   ]
  },
  {
   "cell_type": "code",
   "execution_count": 69,
   "metadata": {},
   "outputs": [
    {
     "name": "stdout",
     "output_type": "stream",
     "text": [
      "(20, 0, 100, 1.0, 0, 1, 10000000000)\n"
     ]
    }
   ],
   "source": [
    "K=int(input(\"Enter your number: \"))\n",
    "H=int(input(\"Enter your sec number: \"))\n",
    "RESULT=(H+K),(H-K),(H*K),(H/K),(H%K),(H//K),(H**K)\n",
    "print(RESULT)\n"
   ]
  },
  {
   "cell_type": "code",
   "execution_count": 1,
   "metadata": {},
   "outputs": [
    {
     "name": "stdout",
     "output_type": "stream",
     "text": [
      "21\n"
     ]
    }
   ],
   "source": [
    "x=20\n",
    "y=5 \n",
    "result=(x+True)\n",
    "print(result)"
   ]
  },
  {
   "cell_type": "code",
   "execution_count": 31,
   "metadata": {},
   "outputs": [
    {
     "data": {
      "text/plain": [
       "'llo worl'"
      ]
     },
     "execution_count": 31,
     "metadata": {},
     "output_type": "execute_result"
    }
   ],
   "source": [
    "s=\"Hello world\"\n",
    "s[2:10]\n"
   ]
  },
  {
   "cell_type": "code",
   "execution_count": 32,
   "metadata": {},
   "outputs": [
    {
     "data": {
      "text/plain": [
       "'Hlwl'"
      ]
     },
     "execution_count": 32,
     "metadata": {},
     "output_type": "execute_result"
    }
   ],
   "source": [
    "s[::3]"
   ]
  },
  {
   "cell_type": "code",
   "execution_count": 7,
   "metadata": {},
   "outputs": [
    {
     "name": "stdout",
     "output_type": "stream",
     "text": [
      "Hello\n",
      "World\n"
     ]
    }
   ],
   "source": [
    "print(\"Hello\")\n",
    "print(\"World\")"
   ]
  },
  {
   "cell_type": "code",
   "execution_count": 8,
   "metadata": {},
   "outputs": [
    {
     "name": "stdout",
     "output_type": "stream",
     "text": [
      "Hello World "
     ]
    }
   ],
   "source": [
    "print(\"Hello\",end=\" \")\n",
    "print(\"World\",end=\" \")"
   ]
  },
  {
   "cell_type": "code",
   "execution_count": 9,
   "metadata": {},
   "outputs": [
    {
     "name": "stdout",
     "output_type": "stream",
     "text": [
      "25\n"
     ]
    }
   ],
   "source": [
    "X=20 #Initial value of X\n",
    "Y=5 #Initial value of Y     \n",
    "print(X+Y) #Addition"
   ]
  },
  {
   "cell_type": "code",
   "execution_count": 10,
   "metadata": {},
   "outputs": [
    {
     "name": "stdout",
     "output_type": "stream",
     "text": [
      "29\n"
     ]
    }
   ],
   "source": [
    "RESULT=(2+3\n",
    "        +6*4)\n",
    "print(RESULT)"
   ]
  },
  {
   "cell_type": "code",
   "execution_count": 11,
   "metadata": {},
   "outputs": [
    {
     "name": "stdout",
     "output_type": "stream",
     "text": [
      "25\n"
     ]
    }
   ],
   "source": [
    "x=20; y=5; result=(x+y); print(result)"
   ]
  },
  {
   "cell_type": "code",
   "execution_count": 13,
   "metadata": {},
   "outputs": [
    {
     "data": {
      "text/plain": [
       "11"
      ]
     },
     "execution_count": 13,
     "metadata": {},
     "output_type": "execute_result"
    }
   ],
   "source": [
    "len(\"Hello World\")\n"
   ]
  },
  {
   "cell_type": "code",
   "execution_count": 14,
   "metadata": {},
   "outputs": [
    {
     "data": {
      "text/plain": [
       "'Hello World'"
      ]
     },
     "execution_count": 14,
     "metadata": {},
     "output_type": "execute_result"
    }
   ],
   "source": [
    "s=\"Hello World\"\n",
    "s"
   ]
  },
  {
   "cell_type": "code",
   "execution_count": 15,
   "metadata": {},
   "outputs": [
    {
     "data": {
      "text/plain": [
       "'H'"
      ]
     },
     "execution_count": 15,
     "metadata": {},
     "output_type": "execute_result"
    }
   ],
   "source": [
    "s[0]"
   ]
  },
  {
   "cell_type": "code",
   "execution_count": 16,
   "metadata": {},
   "outputs": [
    {
     "data": {
      "text/plain": [
       "'d'"
      ]
     },
     "execution_count": 16,
     "metadata": {},
     "output_type": "execute_result"
    }
   ],
   "source": [
    "s[-1]"
   ]
  },
  {
   "cell_type": "code",
   "execution_count": null,
   "metadata": {},
   "outputs": [
    {
     "data": {
      "text/plain": [
       "'l'"
      ]
     },
     "execution_count": 18,
     "metadata": {},
     "output_type": "execute_result"
    }
   ],
   "source": [
    "s[-2]"
   ]
  },
  {
   "cell_type": "code",
   "execution_count": null,
   "metadata": {},
   "outputs": [
    {
     "name": "stdout",
     "output_type": "stream",
     "text": [
      "Hello\n",
      "World\n"
     ]
    }
   ],
   "source": [
    "print(s[0:5])#بياخد كله ماعدا اخر رقم في الترتيب\n",
    "print(s[6:11])\n",
    "print(s[0:11])"
   ]
  },
  {
   "cell_type": "code",
   "execution_count": 22,
   "metadata": {},
   "outputs": [
    {
     "data": {
      "text/plain": [
       "[1, 4, 7, 10]"
      ]
     },
     "execution_count": 22,
     "metadata": {},
     "output_type": "execute_result"
    }
   ],
   "source": [
    "s=[1,2,3,4,5,6,7,8,9,10]\n",
    "s[::3]"
   ]
  },
  {
   "cell_type": "code",
   "execution_count": 24,
   "metadata": {},
   "outputs": [
    {
     "name": "stdout",
     "output_type": "stream",
     "text": [
      "a is greater than b\n"
     ]
    }
   ],
   "source": [
    "a=200\n",
    "b=100\n",
    "if b>a:\n",
    "    print(\"b is greater than a\")    \n",
    "else:\n",
    "    print(\"a is greater than b\")    "
   ]
  },
  {
   "cell_type": "code",
   "execution_count": 25,
   "metadata": {},
   "outputs": [
    {
     "name": "stdout",
     "output_type": "stream",
     "text": [
      "a is greater than b\n",
      "b is less than a\n"
     ]
    }
   ],
   "source": [
    "if a>b: print(\"a is greater than b\")\n",
    "if a<b: print(\"b is greater than a\")\n",
    "if a==b: print(\"a is equal to b\")\n",
    "if b<a: print(\"b is less than a\")"
   ]
  },
  {
   "cell_type": "code",
   "execution_count": 26,
   "metadata": {},
   "outputs": [
    {
     "name": "stdout",
     "output_type": "stream",
     "text": [
      "Both numbers are positive\n"
     ]
    }
   ],
   "source": [
    "x=20\n",
    "y=5\n",
    "if x>0 and y>0:\n",
    "    print(\"Both numbers are positive\")"
   ]
  },
  {
   "cell_type": "code",
   "execution_count": 30,
   "metadata": {},
   "outputs": [
    {
     "name": "stdout",
     "output_type": "stream",
     "text": [
      "You are eligible to vote\n"
     ]
    }
   ],
   "source": [
    "age=18\n",
    "if age>=19 or age<=60:\n",
    "    print(\"You are eligible to vote\")"
   ]
  },
  {
   "cell_type": "code",
   "execution_count": 31,
   "metadata": {},
   "outputs": [
    {
     "name": "stdout",
     "output_type": "stream",
     "text": [
      "Odd\n"
     ]
    }
   ],
   "source": [
    "x=5\n",
    "result=\"Even\" if x%2==0 else \"Odd\"\n",
    "print(result)"
   ]
  },
  {
   "cell_type": "code",
   "execution_count": 32,
   "metadata": {},
   "outputs": [
    {
     "name": "stdout",
     "output_type": "stream",
     "text": [
      "adult\n"
     ]
    }
   ],
   "source": [
    "age=18\n",
    "print(\"adult\") if age>=18 else print(\"child\")"
   ]
  },
  {
   "cell_type": "code",
   "execution_count": 35,
   "metadata": {},
   "outputs": [
    {
     "name": "stdout",
     "output_type": "stream",
     "text": [
      "sunny day\n",
      "hot day\n"
     ]
    }
   ],
   "source": [
    "Sunny=True\n",
    "temp=25\n",
    "if Sunny:\n",
    "    print(\"sunny day\")\n",
    "    if temp>20:\n",
    "        print(\"hot day\")\n",
    "    else:\n",
    "        print(\"normal day\")\n",
    "else:\n",
    "    print(\"not sunny day\")"
   ]
  },
  {
   "cell_type": "code",
   "execution_count": 45,
   "metadata": {},
   "outputs": [
    {
     "name": "stdout",
     "output_type": "stream",
     "text": [
      "C\n"
     ]
    }
   ],
   "source": [
    "Grade=int(input(\"Enter your grade: \"))\n",
    "if Grade >=0 and Grade<=100:\n",
    "    if Grade>=90 and Grade<=100:\n",
    "        print(\"A\")\n",
    "    elif Grade>=80 and Grade<90:\n",
    "        print(\"B\")\n",
    "    elif Grade>=70 and Grade<80:\n",
    "         print(\"C\")      \n",
    "    elif Grade>=60 and Grade<70:\n",
    "         print(\"D\")\n",
    "    elif Grade<60:\n",
    "        print(\"F\")\n",
    "else:\n",
    "    print(\"Invalid grade\")\n"
   ]
  },
  {
   "cell_type": "code",
   "execution_count": 51,
   "metadata": {},
   "outputs": [
    {
     "name": "stdout",
     "output_type": "stream",
     "text": [
      "Invalid grade\n"
     ]
    }
   ],
   "source": [
    "Grade=int(input(\"Enter your grade: \"))\n",
    "def GetGrade(Grade):\n",
    "    if Grade >=0 and Grade<=100:\n",
    "        if Grade>=90 and Grade<=100:\n",
    "            return \"A\"\n",
    "        elif Grade>=80 and Grade<90:\n",
    "           return \"B\"\n",
    "        elif Grade>=70 and Grade<80:\n",
    "             return \"C\"     \n",
    "        elif Grade>=60 and Grade<70:\n",
    "           return \"D\"\n",
    "        elif Grade<60:\n",
    "            return \"F\"\n",
    "    else:\n",
    "        return\"Invalid grade\"\n",
    "print(GetGrade(Grade))    "
   ]
  },
  {
   "cell_type": "code",
   "execution_count": 4,
   "metadata": {},
   "outputs": [
    {
     "name": "stdout",
     "output_type": "stream",
     "text": [
      "the number 0 is even\n",
      "the number 1 is odd\n",
      "the number 2 is even\n",
      "the number 3 is odd\n",
      "the number 4 is even\n",
      "the number 5 is odd\n",
      "the number 6 is even\n",
      "the number 7 is odd\n",
      "the number 8 is even\n",
      "the number 9 is odd\n"
     ]
    }
   ],
   "source": [
    "x=int(input(\"Enter your number: \"))\n",
    "for i in range(x):\n",
    "    if i%2==0:\n",
    "        print(f'the number {i} is even')\n",
    "    else:       \n",
    "        print(f'the number {i} is odd')"
   ]
  },
  {
   "cell_type": "code",
   "execution_count": 38,
   "metadata": {},
   "outputs": [
    {
     "data": {
      "text/plain": [
       "140710991100536"
      ]
     },
     "execution_count": 38,
     "metadata": {},
     "output_type": "execute_result"
    }
   ],
   "source": [
    "x=7\n",
    "id(x)"
   ]
  }
 ],
 "metadata": {
  "kernelspec": {
   "display_name": "Python 3",
   "language": "python",
   "name": "python3"
  },
  "language_info": {
   "codemirror_mode": {
    "name": "ipython",
    "version": 3
   },
   "file_extension": ".py",
   "mimetype": "text/x-python",
   "name": "python",
   "nbconvert_exporter": "python",
   "pygments_lexer": "ipython3",
   "version": "3.12.4"
  }
 },
 "nbformat": 4,
 "nbformat_minor": 2
}
